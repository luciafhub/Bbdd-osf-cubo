{
 "cells": [
  {
   "cell_type": "markdown",
   "metadata": {},
   "source": [
    "# Interfaz gráfica para CuboLab"
   ]
  },
  {
   "cell_type": "markdown",
   "metadata": {},
   "source": [
    "## Github"
   ]
  },
  {
   "cell_type": "markdown",
   "metadata": {},
   "source": [
    "En https://github.com/, se crea un repositorio. Se suben los archivos necesarios, que serán:\n",
    "\n",
    "- El archivo python de la interfaz gráfica \"streamlit\".\n",
    "- El archivo de texto requirements para instalar librerías necesarias."
   ]
  },
  {
   "cell_type": "markdown",
   "metadata": {},
   "source": [
    "## Streamlit"
   ]
  },
  {
   "cell_type": "markdown",
   "metadata": {},
   "source": [
    "En la página web de Streamlit https://streamlit.io/ crear una cuenta.\n",
    "\n",
    "\n",
    "Después dar a Create App -> Deploy a public app from GitHub. \n",
    "\n",
    "Indicar el repositorio donde hemos subidos los archivos mencionados antes. Y darle a Deploy.\n",
    "\n",
    "\n",
    "La app estará lista. Podemos copiar su URL, para ver la app desde cualquier dispositivo móvil y para que lo pueda ver cualquier persona."
   ]
  },
  {
   "cell_type": "markdown",
   "metadata": {},
   "source": [
    "https://bbdd-osf-cubo-fxymdxt7acm2dfpdeja6oe.streamlit.app/"
   ]
  },
  {
   "cell_type": "markdown",
   "metadata": {},
   "source": [
    "### Generar datos para verificar funcionamiento"
   ]
  },
  {
   "cell_type": "markdown",
   "metadata": {},
   "source": [
    "Se generaron datos para la tabla \"pacientes_enfermeras_200\" cada 10 segundos, para verificar si se actualizaba bien la base cada vez que se selecciona esa opción en la interfaz gráfica."
   ]
  },
  {
   "cell_type": "code",
   "execution_count": null,
   "metadata": {
    "vscode": {
     "languageId": "plaintext"
    }
   },
   "outputs": [],
   "source": [
    "import time\n",
    "import random\n",
    "import requests\n",
    "import pandas as pd\n",
    "from io import StringIO\n",
    "\n",
    "# Configuración inicial\n",
    "osf_token = 'TVJALoFX8HrZ5YEbXeEMYYDBb9EL30qdDf2hA6jbXSOzb8C3P2QDxPY8LCAgnBgBax99n9'  # Reemplaza con tu token de OSF\n",
    "project_id = 'h2te3'  # Reemplaza con el ID del proyecto en OSF\n",
    "file_name = 'pacientes_enfermeras_200.csv'\n",
    "download_url = 'https://osf.io/download/672a0d0f1728a8447dbaa565/'  # URL directa del archivo en OSF\n",
    "headers = {\n",
    "    'Authorization': f'Bearer {osf_token}'\n",
    "}\n",
    "\n",
    "# Función para descargar la base de datos inicial desde OSF\n",
    "def descargar_datos_osf():\n",
    "    response = requests.get(download_url)\n",
    "    response.raise_for_status()\n",
    "    data_str = response.text\n",
    "    # Leer el archivo ignorando las primeras líneas no deseadas\n",
    "    df = pd.read_csv(StringIO(data_str), skiprows=2)\n",
    "    # Asegurar que las columnas sean de tipo entero\n",
    "    df['id_pacientes_enfermeras'] = pd.to_numeric(df['id_pacientes_enfermeras'], errors='coerce').fillna(0).astype(int)\n",
    "    df['id_paciente'] = pd.to_numeric(df['id_paciente'], errors='coerce').fillna(0).astype(int)\n",
    "    return df\n",
    "\n",
    "# Función para generar un nuevo paciente\n",
    "def generar_nuevo_paciente(max_id_paciente, last_id_pacientes_enfermeras):\n",
    "    return {\n",
    "        'id_pacientes_enfermeras': last_id_pacientes_enfermeras + 1,\n",
    "        'id_paciente': max_id_paciente + 1,\n",
    "        'id_enfermera': random.randint(1, 50)\n",
    "    }\n",
    "\n",
    "# Función para actualizar el archivo local con un nuevo paciente\n",
    "def actualizar_datos_localmente(df):\n",
    "    max_id_paciente = df['id_paciente'].max()\n",
    "    last_id_pacientes_enfermeras = df['id_pacientes_enfermeras'].max()\n",
    "    \n",
    "    # Genera un nuevo registro de paciente y lo añade al DataFrame\n",
    "    nuevo_paciente = generar_nuevo_paciente(max_id_paciente, last_id_pacientes_enfermeras)\n",
    "    df = pd.concat([df, pd.DataFrame([nuevo_paciente])], ignore_index=True)\n",
    "    \n",
    "    # Guarda el archivo actualizado localmente, concatenando con los datos existentes\n",
    "    df.to_csv(file_name, index=False, mode='w', encoding='utf-8')\n",
    "    print(f\"Nuevo paciente añadido: {nuevo_paciente}\")\n",
    "    return df\n",
    "\n",
    "# Función para subir o actualizar el archivo en OSF\n",
    "def subir_o_actualizar_en_osf():\n",
    "    list_url = f'https://api.osf.io/v2/nodes/{project_id}/files/osfstorage/'\n",
    "    response = requests.get(list_url, headers=headers)\n",
    "    \n",
    "    if response.status_code == 200:\n",
    "        files = response.json()['data']\n",
    "        file_id = None\n",
    "        for file in files:\n",
    "            if file['attributes']['name'] == file_name:\n",
    "                file_id = file['id']\n",
    "                break\n",
    "        \n",
    "        if file_id:\n",
    "            upload_url = f'https://files.osf.io/v1/resources/{project_id}/providers/osfstorage/{file_id}?kind=file'\n",
    "            with open(file_name, 'rb') as f:\n",
    "                response = requests.put(upload_url, headers=headers, files={'file': f})\n",
    "            \n",
    "            if response.status_code in [200, 201]:\n",
    "                print('Archivo actualizado exitosamente en OSF.')\n",
    "            else:\n",
    "                print('Error al actualizar el archivo:', response.status_code, response.text)\n",
    "        else:\n",
    "            upload_url = f'https://files.osf.io/v1/resources/{project_id}/providers/osfstorage/?name={file_name}'\n",
    "            with open(file_name, 'rb') as f:\n",
    "                response = requests.put(upload_url, headers=headers, files={'file': f})\n",
    "            \n",
    "            if response.status_code == 201:\n",
    "                print('Archivo creado exitosamente en OSF.')\n",
    "            else:\n",
    "                print('Error al crear el archivo:', response.status_code, response.text)\n",
    "    else:\n",
    "        print('Error al obtener la lista de archivos en OSF:', response.status_code, response.text)\n",
    "\n",
    "# Descargar la base de datos inicial\n",
    "df = descargar_datos_osf()\n",
    "\n",
    "# Bucle de generación y carga cada 10 segundos\n",
    "while True:\n",
    "    df = actualizar_datos_localmente(df)  # Actualiza el DataFrame local con un nuevo paciente\n",
    "    subir_o_actualizar_en_osf()           # Crea o actualiza el archivo en OSF\n",
    "    time.sleep(10)  # Espera 10 segundos"
   ]
  },
  {
   "cell_type": "markdown",
   "metadata": {},
   "source": [
    "# Archivo de texto: Requirements\n",
    "\n",
    "El archivo *requirements.txt* es un archivo de texto utilizado en proyectos de Python para especificar las bibliotecas y dependencias necesarias para ejecutar el código correctamente. \n",
    "\n",
    "Contiene una lista de paquetes junto con las versiones específicas (o mínimas) requeridas. Esto asegura que el entorno donde se ejecuta el proyecto sea consistente y no haya problemas por diferencias en las versiones de las bibliotecas."
   ]
  },
  {
   "cell_type": "markdown",
   "metadata": {},
   "source": [
    "En el directorio del proyecto, crea un archivo llamado requirements.txt\n",
    "\n",
    "Para este proyecto, la lista las dependencias necesarias y sus versiones son las siguientes:"
   ]
  },
  {
   "cell_type": "code",
   "execution_count": null,
   "metadata": {
    "vscode": {
     "languageId": "plaintext"
    }
   },
   "outputs": [],
   "source": [
    "# requirements.txt\n",
    "\n",
    "requests==2.31.0\n",
    "pandas==2.1.1\n",
    "streamlit==1.25.0\n",
    "plotly==5.17.0\n",
    "statsmodels==0.14.0\n",
    "altair==5.1.0"
   ]
  },
  {
   "cell_type": "markdown",
   "metadata": {},
   "source": [
    "Instalación de dependencias en la terminal:"
   ]
  },
  {
   "cell_type": "code",
   "execution_count": null,
   "metadata": {
    "vscode": {
     "languageId": "plaintext"
    }
   },
   "outputs": [],
   "source": [
    "pip install -r requirements.txt"
   ]
  },
  {
   "cell_type": "markdown",
   "metadata": {},
   "source": [
    "Tras ejecutar el comando, todas las dependencias estarán instaladas y podrás ejecutar tu proyecto en un entorno configurado correctamente."
   ]
  }
 ],
 "metadata": {
  "language_info": {
   "name": "python"
  }
 },
 "nbformat": 4,
 "nbformat_minor": 2
}
